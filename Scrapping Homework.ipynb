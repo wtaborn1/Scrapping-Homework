{
 "cells": [
  {
   "cell_type": "code",
   "execution_count": 1,
   "metadata": {},
   "outputs": [],
   "source": [
    "from splinter import Browser\n",
    "from bs4 import BeautifulSoup\n",
    "from selenium import webdriver\n",
    "from webdriver_manager.chrome import ChromeDriverManager\n",
    "import re\n",
    "import pandas as pd\n",
    "\n",
    "\n",
    "#driver = webdriver.Chrome(ChromeDriverManager().install())\n",
    "\n",
    "\n",
    "\n",
    "def init_browser():\n",
    "    # @NOTE: Replace the path with your actual path to the chromedriver\n",
    "    executable_path = {\"executable_path\": \"chromedriver\"}\n",
    "    return Browser(\"chrome\", **executable_path, headless=False)\n",
    "scrape_solutions ={}\n",
    "\n",
    "def scrape(listings):\n",
    "    browser = init_browser()\n",
    "    \n",
    "\n",
    "    url = \"https://mars.nasa.gov/news/\"\n",
    "    browser.visit(url)\n",
    "\n",
    "    html = browser.html\n",
    "    soup = BeautifulSoup(html, \"html.parser\")\n",
    "\n",
    "    listings[\"headline\"] = soup.find(\"div\", class_=\"content_title\").get_text()\n",
    "    listings[\"paragraph\"] = soup.find(\"div\", class_=\"article_teaser_body\").get_text()\n",
    "\n",
    "    return listings"
   ]
  },
  {
   "cell_type": "code",
   "execution_count": 2,
   "metadata": {},
   "outputs": [
    {
     "data": {
      "text/plain": [
       "{'headline': \"NASA's Briefcase-Size MarCO Satellite Picks Up Honors\",\n",
       " 'paragraph': 'The twin spacecraft, the first of their kind to fly into deep space, earn a Laureate from Aviation Week & Space Technology.'}"
      ]
     },
     "execution_count": 2,
     "metadata": {},
     "output_type": "execute_result"
    }
   ],
   "source": [
    "scrape(scrape_solutions)"
   ]
  },
  {
   "cell_type": "code",
   "execution_count": 3,
   "metadata": {},
   "outputs": [],
   "source": [
    "def scrape_marsimages(listings):\n",
    "    url = \"https://www.jpl.nasa.gov/spaceimages/?search=&category=Mars\"\n",
    "    browser = init_browser()\n",
    "    browser.visit(url)\n",
    "\n",
    "    html = browser.html\n",
    "    soup = BeautifulSoup(html, \"html.parser\")\n",
    "\n",
    "    mars_images = soup.find(\"article\", class_=\"carousel_item\")\n",
    "    listings[\"images\"] = re.findall(r\"'(.*?)'\",str(mars_images), re.DOTALL)\n",
    "\n",
    "    #listings[\"paragraph\"] = soup.find(\"div\", class_=\"article_teaser_body\").get_text()\n",
    "\n",
    "    return listings"
   ]
  },
  {
   "cell_type": "code",
   "execution_count": 4,
   "metadata": {
    "scrolled": true
   },
   "outputs": [
    {
     "data": {
      "text/plain": [
       "{'headline': \"NASA's Briefcase-Size MarCO Satellite Picks Up Honors\",\n",
       " 'paragraph': 'The twin spacecraft, the first of their kind to fly into deep space, earn a Laureate from Aviation Week & Space Technology.',\n",
       " 'images': ['/spaceimages/images/wallpaper/PIA16682-1920x1200.jpg']}"
      ]
     },
     "execution_count": 4,
     "metadata": {},
     "output_type": "execute_result"
    }
   ],
   "source": [
    "scrape_marsimages(scrape_solutions)"
   ]
  },
  {
   "cell_type": "code",
   "execution_count": 5,
   "metadata": {},
   "outputs": [
    {
     "name": "stdout",
     "output_type": "stream",
     "text": [
      "{'headline': \"NASA's Briefcase-Size MarCO Satellite Picks Up Honors\", 'paragraph': 'The twin spacecraft, the first of their kind to fly into deep space, earn a Laureate from Aviation Week & Space Technology.', 'images': ['/spaceimages/images/wallpaper/PIA16682-1920x1200.jpg']}\n"
     ]
    }
   ],
   "source": [
    "print(scrape_solutions)"
   ]
  },
  {
   "cell_type": "code",
   "execution_count": 6,
   "metadata": {},
   "outputs": [],
   "source": [
    "def mars_twitter(listings):\n",
    "    url =\"https://twitter.com/marswxreport?lang=en\"\n",
    "    browser = init_browser()\n",
    "    browser.visit(url)\n",
    "\n",
    "    html = browser.html\n",
    "    soup = BeautifulSoup(html, \"html.parser\")\n",
    "\n",
    "    twitter_tweets = soup.find(\"p\", class_=\"TweetTextSize TweetTextSize--normal js-tweet-text tweet-text\").get_text()\n",
    "    listings [\"tweets\"]= twitter_tweets\n",
    "   #listings[\"images\"] = re.findall(r\"'(.*?)'\",str(mars_images), re.DOTALL)\n",
    "\n",
    "    #listings[\"paragraph\"] = soup.find(\"div\", class_=\"article_teaser_body\").get_text()\n",
    "\n",
    "    return listings\n",
    "\n",
    "\n",
    "\n"
   ]
  },
  {
   "cell_type": "code",
   "execution_count": 7,
   "metadata": {},
   "outputs": [
    {
     "data": {
      "text/plain": [
       "{'headline': \"NASA's Briefcase-Size MarCO Satellite Picks Up Honors\",\n",
       " 'paragraph': 'The twin spacecraft, the first of their kind to fly into deep space, earn a Laureate from Aviation Week & Space Technology.',\n",
       " 'images': ['/spaceimages/images/wallpaper/PIA16682-1920x1200.jpg'],\n",
       " 'tweets': 'InSight sol 365 (2019-12-06) low -98.8ºC (-145.8ºF) high -21.5ºC (-6.8ºF)\\nwinds from the SSW at 5.7 m/s (12.7 mph) gusting to 20.2 m/s (45.2 mph)\\npressure at 6.60 hPapic.twitter.com/JF2KNAksNr'}"
      ]
     },
     "execution_count": 7,
     "metadata": {},
     "output_type": "execute_result"
    }
   ],
   "source": [
    "mars_twitter(scrape_solutions)"
   ]
  },
  {
   "cell_type": "code",
   "execution_count": 8,
   "metadata": {},
   "outputs": [],
   "source": [
    "#class=\"tablepress tablepress-id-p-mars\"\n",
    "def get_mars_table():\n",
    "    url =\"https://space-facts.com/mars/\"\n",
    "    browser = init_browser()\n",
    "    browser.visit(url)\n",
    "\n",
    "    html = browser.html\n",
    "    soup = BeautifulSoup(html, \"html.parser\")\n",
    "\n",
    "    mars_table = soup.find(\"table\", class_=\"tablepress tablepress-id-p-mars\")\n",
    "    mars_table = str(mars_table)\n",
    "    dfs = pd.read_html(mars_table)\n",
    "    return dfs\n",
    "    #listings [\"tweets\"]= twitter_tweets"
   ]
  },
  {
   "cell_type": "code",
   "execution_count": 9,
   "metadata": {},
   "outputs": [
    {
     "data": {
      "text/plain": [
       "'<table border=\"1\" class=\"dataframe\">\\n  <thead>\\n    <tr style=\"text-align: right;\">\\n      <th></th>\\n      <th>0</th>\\n    </tr>\\n  </thead>\\n  <tbody>\\n    <tr>\\n      <th>0</th>\\n      <td>0                              1\\n0  Equatorial Diameter:                       6,792 km\\n1       Polar Diameter:                       6,752 km\\n2                 Mass:  6.39 × 10^23 kg (0.11 Earths)\\n3                Moons:            2 (Phobos &amp; Deimos)\\n4       Orbit Distance:       227,943,824 km (1.38 AU)\\n5         Orbit Period:           687 days (1.9 years)\\n6  Surface Temperature:                   -87 to -5 °C\\n7         First Record:              2nd millennium BC\\n8          Recorded By:           Egyptian astronomers</td>\\n    </tr>\\n  </tbody>\\n</table>'"
      ]
     },
     "execution_count": 9,
     "metadata": {},
     "output_type": "execute_result"
    }
   ],
   "source": [
    "scrape_solutions[\"table\"]=pd.DataFrame(get_mars_table()).to_html()\n",
    "scrape_solutions[\"table\"]"
   ]
  },
  {
   "cell_type": "code",
   "execution_count": 10,
   "metadata": {},
   "outputs": [],
   "source": [
    "def get_mars_picture(url):\n",
    "    \n",
    "    browser = init_browser()\n",
    "    browser.visit(url)\n",
    "\n",
    "    html = browser.html\n",
    "    soup = BeautifulSoup(html, \"html.parser\")\n",
    "\n",
    "    picture = soup.find(\"div\", class_=\"downloads\")\n",
    "    title = soup.find(\"h2\", class_= \"title\").get_text()\n",
    "    \n",
    "    return (title, picture.a[\"href\"])\n"
   ]
  },
  {
   "cell_type": "code",
   "execution_count": 11,
   "metadata": {},
   "outputs": [],
   "source": [
    "scrape_solutions[\"picture1\"] = get_mars_picture(\"https://astrogeology.usgs.gov/search/map/Mars/Viking/cerberus_enhanced\")\n",
    "scrape_solutions[\"picture2\"] = get_mars_picture(\"https://astrogeology.usgs.gov/search/map/Mars/Viking/schiaparelli_enhanced\")\n",
    "scrape_solutions[\"picture3\"] = get_mars_picture(\"https://astrogeology.usgs.gov/search/map/Mars/Viking/syrtis_major_enhanced\")\n",
    "scrape_solutions[\"picture4\"] = get_mars_picture(\"https://astrogeology.usgs.gov/search/map/Mars/Viking/valles_marineris_enhanced\")"
   ]
  },
  {
   "cell_type": "code",
   "execution_count": null,
   "metadata": {},
   "outputs": [
    {
     "name": "stdout",
     "output_type": "stream",
     "text": [
      " * Serving Flask app \"__main__\" (lazy loading)\n",
      " * Environment: production\n",
      "   WARNING: This is a development server. Do not use it in a production deployment.\n",
      "   Use a production WSGI server instead.\n",
      " * Debug mode: on\n"
     ]
    },
    {
     "name": "stderr",
     "output_type": "stream",
     "text": [
      " * Running on http://127.0.0.1:3000/ (Press CTRL+C to quit)\n"
     ]
    }
   ],
   "source": [
    "from flask import Flask, render_template, redirect\n",
    "\n",
    "\n",
    "\n",
    "app = Flask(__name__)\n",
    "\n",
    "# Use flask_pymongo to set up mongo connection\n",
    "#app.config[\"MONGO_URI\"] = \"mongodb://localhost:27017/craigslist_app\"\n",
    "\n",
    "\n",
    "# Or set inline\n",
    "# mongo = PyMongo(app, uri=\"mongodb://localhost:27017/craigslist_app\")\n",
    "\n",
    "\n",
    "@app.route(\"/\")\n",
    "def index():\n",
    "  #  listings = mongo.db.listings.find_one()\n",
    "    \n",
    "    return render_template(\"index.html\", scrape_solutions=scrape_solutions)\n",
    "\n",
    "\n",
    "@app.route(\"/scrape\")\n",
    "def scraper():\n",
    "    scrape_solutions[\"picture1\"] = get_mars_picture(\"https://astrogeology.usgs.gov/search/map/Mars/Viking/cerberus_enhanced\")\n",
    "    scrape_solutions[\"picture2\"] = get_mars_picture(\"https://astrogeology.usgs.gov/search/map/Mars/Viking/schiaparelli_enhanced\")\n",
    "    scrape_solutions[\"picture3\"] = get_mars_picture(\"https://astrogeology.usgs.gov/search/map/Mars/Viking/syrtis_major_enhanced\")\n",
    "    scrape_solutions[\"picture4\"] = get_mars_picture(\"https://astrogeology.usgs.gov/search/map/Mars/Viking/valles_marineris_enhanced\")\n",
    "    scrape_solutions[\"table\"]=pd.DataFrame(get_mars_table()).to_html()\n",
    "    mars_twitter(scrape_solutions)\n",
    "    scrape_marsimages(scrape_solutions)\n",
    "    scrape(scrape_solutions)\n",
    "    return redirect(\"/\", code=302)\n",
    "\n",
    "\n",
    "#if __name__ == \"__main__\":\n",
    "app.run(debug=True,use_reloader=False,port=3000)\n"
   ]
  },
  {
   "cell_type": "code",
   "execution_count": null,
   "metadata": {},
   "outputs": [],
   "source": [
    "%tb"
   ]
  },
  {
   "cell_type": "code",
   "execution_count": null,
   "metadata": {},
   "outputs": [],
   "source": []
  }
 ],
 "metadata": {
  "kernelspec": {
   "display_name": "Python 3",
   "language": "python",
   "name": "python3"
  },
  "language_info": {
   "codemirror_mode": {
    "name": "ipython",
    "version": 3
   },
   "file_extension": ".py",
   "mimetype": "text/x-python",
   "name": "python",
   "nbconvert_exporter": "python",
   "pygments_lexer": "ipython3",
   "version": "3.6.9"
  }
 },
 "nbformat": 4,
 "nbformat_minor": 2
}
